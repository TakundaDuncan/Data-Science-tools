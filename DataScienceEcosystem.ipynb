{
  "nbformat": 4,
  "nbformat_minor": 0,
  "metadata": {
    "colab": {
      "provenance": []
    },
    "kernelspec": {
      "name": "python3",
      "display_name": "Python 3"
    },
    "language_info": {
      "name": "python"
    }
  },
  "cells": [
    {
      "cell_type": "markdown",
      "source": [
        "# Data Science Tools and Ecosystem"
      ],
      "metadata": {
        "id": "bq9U68WN_TGJ"
      }
    },
    {
      "cell_type": "markdown",
      "source": [
        "In this notebook, Data Science Tools and Ecosystem are summarized."
      ],
      "metadata": {
        "id": "NljeF-wpUiNl"
      }
    },
    {
      "cell_type": "markdown",
      "source": [
        "**Objectives**\n",
        "\n",
        "\n",
        "\n",
        "*   List popular languages that Data Scientists use\n",
        "*   List commonly used libraries by Data Scientists\n",
        "\n",
        "*   Evaluate arithmetic expressions\n",
        "\n",
        "\n",
        "\n"
      ],
      "metadata": {
        "id": "5-4vc8sMaLVF"
      }
    },
    {
      "cell_type": "markdown",
      "source": [
        "Some of the popular languages that Data Scientists use are:\n",
        "\n",
        "1.   Python\n",
        "2.   R\n",
        "\n",
        "1.   SQL\n",
        "2.   Java\n",
        "\n"
      ],
      "metadata": {
        "id": "ubgLHLKRUyiU"
      }
    },
    {
      "cell_type": "markdown",
      "source": [
        "Some of the commonly used libraries used by Data Scientists include:\n",
        "\n",
        "\n",
        "1.   Pandas\n",
        "2.   Numpy\n",
        "\n",
        "1.   ggplot\n",
        "2.   Seaborn\n",
        "\n",
        "\n",
        "\n"
      ],
      "metadata": {
        "id": "9sz_c2TDWXvr"
      }
    },
    {
      "cell_type": "markdown",
      "source": [
        "| Data Science Tools |\n",
        "|---|\n",
        "| Jupyter Notebook |\n",
        "| RStudio |\n",
        "| Python |"
      ],
      "metadata": {
        "id": "Tg_bexPhXOXW"
      }
    },
    {
      "cell_type": "markdown",
      "source": [
        "### Below are a few examples of evaluating arithmetic expressions in Python"
      ],
      "metadata": {
        "id": "r9HtcFgrYp06"
      }
    },
    {
      "cell_type": "code",
      "source": [
        "#This a simple arithmetic expression to mutiply then add integers\n",
        "print((3*4)+5)"
      ],
      "metadata": {
        "colab": {
          "base_uri": "https://localhost:8080/"
        },
        "id": "21HWJ21aY3Uw",
        "outputId": "252d1c04-c111-4351-f9b8-4d817241906d"
      },
      "execution_count": 2,
      "outputs": [
        {
          "output_type": "stream",
          "name": "stdout",
          "text": [
            "17\n"
          ]
        }
      ]
    },
    {
      "cell_type": "code",
      "source": [
        "#This will convert 200 minutes to hours by diving by 60\n",
        "minutes = 200\n",
        "hours = minutes / 60\n",
        "print(hours)"
      ],
      "metadata": {
        "colab": {
          "base_uri": "https://localhost:8080/"
        },
        "id": "N8dP_kQAZXgK",
        "outputId": "0b76fa75-b9fb-4636-af21-7426a67ae1f1"
      },
      "execution_count": 3,
      "outputs": [
        {
          "output_type": "stream",
          "name": "stdout",
          "text": [
            "3.3333333333333335\n"
          ]
        }
      ]
    },
    {
      "cell_type": "markdown",
      "source": [
        "## Author\n",
        "Takunda Duncan"
      ],
      "metadata": {
        "id": "O4MuKTB7bGEa"
      }
    },
    {
      "cell_type": "code",
      "source": [],
      "metadata": {
        "id": "uhXJmljsZ10N"
      },
      "execution_count": null,
      "outputs": []
    }
  ]
}